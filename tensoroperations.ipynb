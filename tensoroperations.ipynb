{
  "nbformat": 4,
  "nbformat_minor": 0,
  "metadata": {
    "colab": {
      "provenance": [],
      "authorship_tag": "ABX9TyMfMx80oTdPPe9Ofdn7jG8S",
      "include_colab_link": true
    },
    "kernelspec": {
      "name": "python3",
      "display_name": "Python 3"
    },
    "language_info": {
      "name": "python"
    }
  },
  "cells": [
    {
      "cell_type": "markdown",
      "metadata": {
        "id": "view-in-github",
        "colab_type": "text"
      },
      "source": [
        "<a href=\"https://colab.research.google.com/github/romenlongcode/YT-PYtorch/blob/main/tensoroperations.ipynb\" target=\"_parent\"><img src=\"https://colab.research.google.com/assets/colab-badge.svg\" alt=\"Open In Colab\"/></a>"
      ]
    },
    {
      "cell_type": "code",
      "execution_count": 2,
      "metadata": {
        "id": "9yLT-U2e8VqY"
      },
      "outputs": [],
      "source": [
        "import torch\n",
        "import numpy as np"
      ]
    },
    {
      "cell_type": "code",
      "source": [
        "mytorch01= torch.arange(15)"
      ],
      "metadata": {
        "id": "e7Hwa_2A9h-a"
      },
      "execution_count": 4,
      "outputs": []
    },
    {
      "cell_type": "code",
      "source": [
        "mytorch02=mytorch01.reshape(3,-1)\n",
        "mytorch02"
      ],
      "metadata": {
        "colab": {
          "base_uri": "https://localhost:8080/"
        },
        "id": "EZUjA4Kx-GOL",
        "outputId": "cbdcf285-352c-4216-b984-30bd23a2f550"
      },
      "execution_count": 5,
      "outputs": [
        {
          "output_type": "execute_result",
          "data": {
            "text/plain": [
              "tensor([[ 0,  1,  2,  3,  4],\n",
              "        [ 5,  6,  7,  8,  9],\n",
              "        [10, 11, 12, 13, 14]])"
            ]
          },
          "metadata": {},
          "execution_count": 5
        }
      ]
    },
    {
      "cell_type": "code",
      "source": [
        "mytorch02[:,0]"
      ],
      "metadata": {
        "colab": {
          "base_uri": "https://localhost:8080/"
        },
        "id": "47uVm2rV-GfY",
        "outputId": "2d13470a-639a-4683-9e9d-238d6a1e199e"
      },
      "execution_count": 7,
      "outputs": [
        {
          "output_type": "execute_result",
          "data": {
            "text/plain": [
              "tensor([ 0,  5, 10])"
            ]
          },
          "metadata": {},
          "execution_count": 7
        }
      ]
    },
    {
      "cell_type": "code",
      "source": [
        "mytorch02[:,1]"
      ],
      "metadata": {
        "outputId": "127a4c79-51ec-47f0-e01d-41ceb2b42c10",
        "colab": {
          "base_uri": "https://localhost:8080/"
        },
        "id": "CYHedIOE-vog"
      },
      "execution_count": 8,
      "outputs": [
        {
          "output_type": "execute_result",
          "data": {
            "text/plain": [
              "tensor([ 1,  6, 11])"
            ]
          },
          "metadata": {},
          "execution_count": 8
        }
      ]
    },
    {
      "cell_type": "code",
      "source": [
        "mytorch02[:,2]"
      ],
      "metadata": {
        "outputId": "2913c1d1-9131-41fd-91a9-c96322a4c009",
        "colab": {
          "base_uri": "https://localhost:8080/"
        },
        "id": "ZT4IQLKI-uWi"
      },
      "execution_count": 9,
      "outputs": [
        {
          "output_type": "execute_result",
          "data": {
            "text/plain": [
              "tensor([ 2,  7, 12])"
            ]
          },
          "metadata": {},
          "execution_count": 9
        }
      ]
    },
    {
      "cell_type": "code",
      "source": [
        "mytorch02[:,3]"
      ],
      "metadata": {
        "outputId": "e1ed40c7-cf07-4da5-c6f0-9212bd449d3a",
        "colab": {
          "base_uri": "https://localhost:8080/"
        },
        "id": "JCxxBPQ7-to-"
      },
      "execution_count": 10,
      "outputs": [
        {
          "output_type": "execute_result",
          "data": {
            "text/plain": [
              "tensor([ 3,  8, 13])"
            ]
          },
          "metadata": {},
          "execution_count": 10
        }
      ]
    },
    {
      "cell_type": "code",
      "source": [
        "mytorch02[:,3:]"
      ],
      "metadata": {
        "outputId": "c58250fd-e857-4522-f18b-def8546bd756",
        "colab": {
          "base_uri": "https://localhost:8080/"
        },
        "id": "UGDjjbdo-7Ug"
      },
      "execution_count": 12,
      "outputs": [
        {
          "output_type": "execute_result",
          "data": {
            "text/plain": [
              "tensor([[ 3,  4],\n",
              "        [ 8,  9],\n",
              "        [13, 14]])"
            ]
          },
          "metadata": {},
          "execution_count": 12
        }
      ]
    },
    {
      "cell_type": "code",
      "source": [
        "mytorch02[:,3::]"
      ],
      "metadata": {
        "outputId": "213d6637-f37e-4b6a-9650-59cbed8470d4",
        "colab": {
          "base_uri": "https://localhost:8080/"
        },
        "id": "opn4Aq--_LrE"
      },
      "execution_count": 13,
      "outputs": [
        {
          "output_type": "execute_result",
          "data": {
            "text/plain": [
              "tensor([[ 3,  4],\n",
              "        [ 8,  9],\n",
              "        [13, 14]])"
            ]
          },
          "metadata": {},
          "execution_count": 13
        }
      ]
    },
    {
      "cell_type": "code",
      "source": [
        "#Tensor Mathematical Operations\n",
        "#Addition\n",
        "\n",
        "my_tensor1=torch.tensor([1,3,4,9,6])\n",
        "my_tensor2=torch.tensor([2,5,3,8,9])"
      ],
      "metadata": {
        "id": "EwaEfQic-GuX"
      },
      "execution_count": 21,
      "outputs": []
    },
    {
      "cell_type": "code",
      "source": [
        "my_tensor3=my_tensor2+my_tensor1\n",
        "my_tensor3"
      ],
      "metadata": {
        "colab": {
          "base_uri": "https://localhost:8080/"
        },
        "id": "qz4D3Ioa-G04",
        "outputId": "02643865-d43f-4ba7-d3d1-59580aa1b6ab"
      },
      "execution_count": 24,
      "outputs": [
        {
          "output_type": "execute_result",
          "data": {
            "text/plain": [
              "tensor([ 3,  8,  7, 17, 15])"
            ]
          },
          "metadata": {},
          "execution_count": 24
        }
      ]
    },
    {
      "cell_type": "code",
      "source": [
        "#SUBTRACTION\n"
      ],
      "metadata": {
        "id": "IsdwGbhH-G7W"
      },
      "execution_count": null,
      "outputs": []
    },
    {
      "cell_type": "code",
      "source": [],
      "metadata": {
        "id": "UCyQ00Ck-HAz"
      },
      "execution_count": null,
      "outputs": []
    }
  ]
}