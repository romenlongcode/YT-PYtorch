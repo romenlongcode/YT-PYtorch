{
  "nbformat": 4,
  "nbformat_minor": 0,
  "metadata": {
    "colab": {
      "provenance": [],
      "authorship_tag": "ABX9TyPFvbs71g7KyBY0dLjzKL/t",
      "include_colab_link": true
    },
    "kernelspec": {
      "name": "python3",
      "display_name": "Python 3"
    },
    "language_info": {
      "name": "python"
    }
  },
  "cells": [
    {
      "cell_type": "markdown",
      "metadata": {
        "id": "view-in-github",
        "colab_type": "text"
      },
      "source": [
        "<a href=\"https://colab.research.google.com/github/romenlongcode/YT-PYtorch/blob/main/intriopytorch.ipynb\" target=\"_parent\"><img src=\"https://colab.research.google.com/assets/colab-badge.svg\" alt=\"Open In Colab\"/></a>"
      ]
    },
    {
      "cell_type": "code",
      "execution_count": 1,
      "metadata": {
        "id": "p84r88_uCYHr"
      },
      "outputs": [],
      "source": [
        "import torch"
      ]
    },
    {
      "cell_type": "code",
      "source": [
        "import numpy as np\n",
        "np1=np.random.rand(1,3)\n",
        "np1"
      ],
      "metadata": {
        "id": "0KSP_xcaFLQY",
        "outputId": "6e94f440-429a-499e-d52a-ca53d5dfa04f",
        "colab": {
          "base_uri": "https://localhost:8080/"
        }
      },
      "execution_count": 9,
      "outputs": [
        {
          "output_type": "execute_result",
          "data": {
            "text/plain": [
              "array([[0.48871097, 0.71153966, 0.39762289]])"
            ]
          },
          "metadata": {},
          "execution_count": 9
        }
      ]
    },
    {
      "cell_type": "code",
      "source": [
        "np1.dtype"
      ],
      "metadata": {
        "id": "poDbQAVnGqhh",
        "outputId": "c8cbc187-081e-459b-9b77-4aa04df52d66",
        "colab": {
          "base_uri": "https://localhost:8080/"
        }
      },
      "execution_count": 10,
      "outputs": [
        {
          "output_type": "execute_result",
          "data": {
            "text/plain": [
              "dtype('float64')"
            ]
          },
          "metadata": {},
          "execution_count": 10
        }
      ]
    },
    {
      "cell_type": "code",
      "source": [
        "torch_t1=torch.rand(2,3)\n",
        "torch_t1"
      ],
      "metadata": {
        "id": "wGRJNlaAGuYI",
        "outputId": "a41246b8-b7aa-4683-e0a9-ed0c845f196e",
        "colab": {
          "base_uri": "https://localhost:8080/"
        }
      },
      "execution_count": 11,
      "outputs": [
        {
          "output_type": "execute_result",
          "data": {
            "text/plain": [
              "tensor([[0.5694, 0.9640, 0.7886],\n",
              "        [0.9514, 0.6369, 0.9837]])"
            ]
          },
          "metadata": {},
          "execution_count": 11
        }
      ]
    },
    {
      "cell_type": "code",
      "source": [
        "torch.dtype"
      ],
      "metadata": {
        "id": "aYh0gXqeHVlD",
        "outputId": "e1748934-02d8-43e4-86d8-46e5031fcac1",
        "colab": {
          "base_uri": "https://localhost:8080/"
        }
      },
      "execution_count": 12,
      "outputs": [
        {
          "output_type": "execute_result",
          "data": {
            "text/plain": [
              "torch.dtype"
            ]
          },
          "metadata": {},
          "execution_count": 12
        }
      ]
    },
    {
      "cell_type": "code",
      "source": [
        "tensor_t2=torch.rand(3,3)\n",
        "tensor_t2"
      ],
      "metadata": {
        "id": "s07ULZ1RHVr4",
        "outputId": "bfcdc04d-31db-4b14-8729-66883b05e204",
        "colab": {
          "base_uri": "https://localhost:8080/"
        }
      },
      "execution_count": 13,
      "outputs": [
        {
          "output_type": "execute_result",
          "data": {
            "text/plain": [
              "tensor([[0.1036, 0.9856, 0.6990],\n",
              "        [0.4605, 0.5531, 0.3631],\n",
              "        [0.5801, 0.7741, 0.8018]])"
            ]
          },
          "metadata": {},
          "execution_count": 13
        }
      ]
    },
    {
      "cell_type": "code",
      "source": [
        "tensor_t2.dtype"
      ],
      "metadata": {
        "id": "ZAhGowzKHVxN",
        "outputId": "9057d217-608d-4778-f027-105b871d8497",
        "colab": {
          "base_uri": "https://localhost:8080/"
        }
      },
      "execution_count": 15,
      "outputs": [
        {
          "output_type": "execute_result",
          "data": {
            "text/plain": [
              "torch.float32"
            ]
          },
          "metadata": {},
          "execution_count": 15
        }
      ]
    },
    {
      "cell_type": "code",
      "source": [],
      "metadata": {
        "id": "tyxkioUSHV22"
      },
      "execution_count": null,
      "outputs": []
    }
  ]
}