{
  "nbformat": 4,
  "nbformat_minor": 0,
  "metadata": {
    "colab": {
      "provenance": [],
      "authorship_tag": "ABX9TyOSrYjiw7RQbAJkydzWrzI/",
      "include_colab_link": true
    },
    "kernelspec": {
      "name": "python3",
      "display_name": "Python 3"
    },
    "language_info": {
      "name": "python"
    }
  },
  "cells": [
    {
      "cell_type": "markdown",
      "metadata": {
        "id": "view-in-github",
        "colab_type": "text"
      },
      "source": [
        "<a href=\"https://colab.research.google.com/github/romenlongcode/YT-PYtorch/blob/main/intriopytorch.ipynb\" target=\"_parent\"><img src=\"https://colab.research.google.com/assets/colab-badge.svg\" alt=\"Open In Colab\"/></a>"
      ]
    },
    {
      "cell_type": "code",
      "execution_count": 3,
      "metadata": {
        "id": "p84r88_uCYHr"
      },
      "outputs": [],
      "source": [
        "import torch"
      ]
    },
    {
      "cell_type": "code",
      "source": [
        "import numpy as np\n",
        "np1=np.random.rand(1,3)\n",
        "np1"
      ],
      "metadata": {
        "id": "0KSP_xcaFLQY",
        "outputId": "c2f9fa37-53d3-45b2-a9c5-bfd091d6b0bf",
        "colab": {
          "base_uri": "https://localhost:8080/"
        }
      },
      "execution_count": 4,
      "outputs": [
        {
          "output_type": "execute_result",
          "data": {
            "text/plain": [
              "array([[0.04341479, 0.72953308, 0.90894442]])"
            ]
          },
          "metadata": {},
          "execution_count": 4
        }
      ]
    },
    {
      "cell_type": "code",
      "source": [
        "np1.dtype"
      ],
      "metadata": {
        "id": "poDbQAVnGqhh",
        "outputId": "9c7acb1a-5594-4c6e-ea91-dcc6f9cb367b",
        "colab": {
          "base_uri": "https://localhost:8080/"
        }
      },
      "execution_count": 5,
      "outputs": [
        {
          "output_type": "execute_result",
          "data": {
            "text/plain": [
              "dtype('float64')"
            ]
          },
          "metadata": {},
          "execution_count": 5
        }
      ]
    },
    {
      "cell_type": "code",
      "source": [
        "torch_t1=torch.rand(2,3)\n",
        "torch_t1"
      ],
      "metadata": {
        "id": "wGRJNlaAGuYI",
        "outputId": "31a38788-9804-4137-9f9c-b85df4360c5e",
        "colab": {
          "base_uri": "https://localhost:8080/"
        }
      },
      "execution_count": 6,
      "outputs": [
        {
          "output_type": "execute_result",
          "data": {
            "text/plain": [
              "tensor([[0.1082, 0.1332, 0.6539],\n",
              "        [0.9673, 0.8982, 0.1194]])"
            ]
          },
          "metadata": {},
          "execution_count": 6
        }
      ]
    },
    {
      "cell_type": "code",
      "source": [
        "torch.dtype"
      ],
      "metadata": {
        "id": "aYh0gXqeHVlD",
        "outputId": "e1748934-02d8-43e4-86d8-46e5031fcac1",
        "colab": {
          "base_uri": "https://localhost:8080/"
        }
      },
      "execution_count": null,
      "outputs": [
        {
          "output_type": "execute_result",
          "data": {
            "text/plain": [
              "torch.dtype"
            ]
          },
          "metadata": {},
          "execution_count": 12
        }
      ]
    },
    {
      "cell_type": "code",
      "source": [
        "tensor_t2=torch.rand(3,3)\n",
        "tensor_t2"
      ],
      "metadata": {
        "id": "s07ULZ1RHVr4",
        "outputId": "298bc6cc-9eeb-43c1-ef56-391208a77df0",
        "colab": {
          "base_uri": "https://localhost:8080/"
        }
      },
      "execution_count": 7,
      "outputs": [
        {
          "output_type": "execute_result",
          "data": {
            "text/plain": [
              "tensor([[0.0045, 0.8213, 0.4265],\n",
              "        [0.7840, 0.8498, 0.2682],\n",
              "        [0.0875, 0.4575, 0.6186]])"
            ]
          },
          "metadata": {},
          "execution_count": 7
        }
      ]
    },
    {
      "cell_type": "code",
      "source": [
        "tensor_t2.dtype"
      ],
      "metadata": {
        "id": "ZAhGowzKHVxN",
        "outputId": "9057d217-608d-4778-f027-105b871d8497",
        "colab": {
          "base_uri": "https://localhost:8080/"
        }
      },
      "execution_count": null,
      "outputs": [
        {
          "output_type": "execute_result",
          "data": {
            "text/plain": [
              "torch.float32"
            ]
          },
          "metadata": {},
          "execution_count": 15
        }
      ]
    },
    {
      "cell_type": "code",
      "source": [
        "type(tensor_t2)"
      ],
      "metadata": {
        "id": "tyxkioUSHV22",
        "outputId": "1a80f8ce-68bf-4144-ca8e-6a5ab63a977c",
        "colab": {
          "base_uri": "https://localhost:8080/"
        }
      },
      "execution_count": 8,
      "outputs": [
        {
          "output_type": "execute_result",
          "data": {
            "text/plain": [
              "torch.Tensor"
            ]
          },
          "metadata": {},
          "execution_count": 8
        }
      ]
    },
    {
      "cell_type": "code",
      "source": [],
      "metadata": {
        "id": "Cn-s_xOX53zI"
      },
      "execution_count": null,
      "outputs": []
    }
  ]
}