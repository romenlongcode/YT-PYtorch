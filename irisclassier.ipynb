{
  "nbformat": 4,
  "nbformat_minor": 0,
  "metadata": {
    "colab": {
      "provenance": [],
      "authorship_tag": "ABX9TyMOaLf2szSrkDBvkB3iXhLg",
      "include_colab_link": true
    },
    "kernelspec": {
      "name": "python3",
      "display_name": "Python 3"
    },
    "language_info": {
      "name": "python"
    }
  },
  "cells": [
    {
      "cell_type": "markdown",
      "metadata": {
        "id": "view-in-github",
        "colab_type": "text"
      },
      "source": [
        "<a href=\"https://colab.research.google.com/github/romenlongcode/YT-PYtorch/blob/main/irisclassier.ipynb\" target=\"_parent\"><img src=\"https://colab.research.google.com/assets/colab-badge.svg\" alt=\"Open In Colab\"/></a>"
      ]
    },
    {
      "cell_type": "code",
      "execution_count": 1,
      "metadata": {
        "id": "6xlHf-ZhoQyL"
      },
      "outputs": [],
      "source": [
        "import torch\n",
        "import torch.nn  as nn\n",
        "import torch.nn.functional as F"
      ]
    },
    {
      "cell_type": "code",
      "source": [
        "#neural network definition\n",
        "class Model(nn.Module):\n",
        "  #input (4 features off a flower)->>\n",
        "  #hidden layer1 H1(number of neurons)->>\n",
        "  #hidden layer2 H2(N)->>\n",
        "  #OUTPUT(3 Classes of iris)\n",
        "\n",
        "  def __init__(self,in_features=4,h1=8,h2=9,output_features=3):\n",
        "    super().__init__() #instantiate our nn.Module)\n",
        "    self.fc1=nn.Linear(in_features,h1)\n",
        "    self.fc2=nn.Linear(h1,h2)\n",
        "    self.out=nn.Linear(h2,output_features)\n",
        "\n",
        "  def forward(self,x):\n",
        "    x=F.relu(self.fc1(x))\n",
        "    x=F.relu(self.fc2(x))\n",
        "    x=self.out(x)\n",
        "\n",
        "\n"
      ],
      "metadata": {
        "id": "1kNuibDSp4RS"
      },
      "execution_count": 4,
      "outputs": []
    },
    {
      "cell_type": "code",
      "source": [
        "#pi(ck a manual seed for randomization\n",
        "torch.manual_seed(41)\n",
        "model=Model()"
      ],
      "metadata": {
        "id": "kVMIIKJSvyDl"
      },
      "execution_count": 6,
      "outputs": []
    },
    {
      "cell_type": "code",
      "source": [
        "#lloading dataset\n"
      ],
      "metadata": {
        "id": "3F8VNZaHvsZr"
      },
      "execution_count": null,
      "outputs": []
    }
  ]
}